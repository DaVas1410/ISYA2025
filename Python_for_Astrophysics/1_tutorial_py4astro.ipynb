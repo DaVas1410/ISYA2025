{
  "cells": [
    {
      "cell_type": "markdown",
      "metadata": {
        "id": "view-in-github",
        "colab_type": "text"
      },
      "source": [
        "<a href=\"https://colab.research.google.com/github/wbandabarragan/ISYA2025/blob/main/Python_for_Astrophysics/1_tutorial_py4astro.ipynb\" target=\"_parent\"><img src=\"https://colab.research.google.com/assets/colab-badge.svg\" alt=\"Open In Colab\"/></a>"
      ]
    },
    {
      "cell_type": "markdown",
      "metadata": {
        "id": "Xsr99Z-Lll-k"
      },
      "source": [
        "# Linux on Google Colab\n",
        "\n",
        "In this lecture, we will use Google Colab to execute some basic Linux and Python commands.\n",
        "\n",
        "The aim of the lecture is to carry out some basic plotting in 1D and 2D to illustrate the usage of Google Colab. For this, we need to:\n",
        "\n",
        "1. Log into our Google accounts.\n",
        "2. Open a Google Colab notebook.\n",
        "3. Edit the name of the notebook.\n",
        "4. Start adding text and code cells.\n",
        "5. Execute the code.\n",
        "\n",
        "## Remote (Google) server connection\n",
        "\n",
        "Google Colab allows us to access remote Linux servers owned by Google, where python is already installed. With Google Colab we can acess such servers via a browser, and this means we do not need to have python installed in our laptops/PCs to use it.\n",
        "\n",
        "The disadvantage is that we are bound to the RAM memory and disc space available in the remote server. For short programming tasks and small computing loads, this is not a problem, but this could be a limitation if we are doing heavy computing, e.g. if we are analysing large data sets.\n",
        "\n",
        "Thus, in the long term, I recommend installing your own versions of python (e.g. via Conda https://www.anaconda.com).\n",
        "\n",
        "## Jupyter notebooks\n",
        "\n",
        "- Jupyter notebooks are interactive digital scrapbooks for code and notes. They let you interact with your code instantly.\n",
        "\n",
        "- Ideal for homework that involves math, astro, physics, and programming.\n",
        "\n",
        "- Notebooks are web-based document where you can write code, see the results and plots, and add text (like explanations or comments).\n",
        "\n",
        "## Kernels\n",
        "\n",
        "- Kernels are the **engine** that runs the code in your notebook. Think of it as the brain behind the operations.\n",
        "\n",
        "- Each kernel understands a different programming language (like Python, R, or Julia).\n",
        "\n",
        "- When you run a code cell, the kernel executes it and sends the answer back to your notebook.\n",
        "\n",
        "\n",
        "## Linux commands:\n",
        "\n",
        "\n",
        "We can use bash commands in a jupyter notebook with \"!\" e.g. The command **pwd** is used to check where we are in the Linux system. Note that / stands for 'root', which is the main directory on Linux machines. In other cases, 'root' can also refer to the **superuser** of a Linux environment. A superuser has permissions to carry out any changes in the system."
      ]
    },
    {
      "cell_type": "code",
      "execution_count": 1,
      "metadata": {
        "colab": {
          "base_uri": "https://localhost:8080/"
        },
        "id": "LvzyJEDzj6nc",
        "outputId": "c7f08041-69b7-4afd-eee8-7ae5e367412c"
      },
      "outputs": [
        {
          "output_type": "stream",
          "name": "stdout",
          "text": [
            "/content\n"
          ]
        }
      ],
      "source": [
        "!pwd"
      ]
    },
    {
      "cell_type": "markdown",
      "source": [
        "### Check Linux kernel information:"
      ],
      "metadata": {
        "id": "UIbKuqnJHQeY"
      }
    },
    {
      "cell_type": "code",
      "source": [
        "!uname -a"
      ],
      "metadata": {
        "colab": {
          "base_uri": "https://localhost:8080/"
        },
        "id": "R9XG0RcWHUDe",
        "outputId": "67ef6470-b1a4-44ad-979a-e153e1b18214"
      },
      "execution_count": 2,
      "outputs": [
        {
          "output_type": "stream",
          "name": "stdout",
          "text": [
            "Linux 37bd4072c815 6.1.123+ #1 SMP PREEMPT_DYNAMIC Sun Mar 30 16:01:29 UTC 2025 x86_64 x86_64 x86_64 GNU/Linux\n"
          ]
        }
      ]
    },
    {
      "cell_type": "markdown",
      "source": [
        "### Release version:"
      ],
      "metadata": {
        "id": "XHBoIlsiIgKB"
      }
    },
    {
      "cell_type": "code",
      "source": [
        "!lsb_release -a"
      ],
      "metadata": {
        "colab": {
          "base_uri": "https://localhost:8080/"
        },
        "id": "MwInrcwlIoLx",
        "outputId": "62d65cbf-d3a2-4337-952c-079bb60f0dd6"
      },
      "execution_count": 3,
      "outputs": [
        {
          "output_type": "stream",
          "name": "stdout",
          "text": [
            "No LSB modules are available.\n",
            "Distributor ID:\tUbuntu\n",
            "Description:\tUbuntu 22.04.4 LTS\n",
            "Release:\t22.04\n",
            "Codename:\tjammy\n"
          ]
        }
      ]
    },
    {
      "cell_type": "code",
      "source": [
        "!cat /etc/os-release"
      ],
      "metadata": {
        "colab": {
          "base_uri": "https://localhost:8080/"
        },
        "id": "BItUZ-O_IiEt",
        "outputId": "751f1a35-c764-4acf-8749-fcfc997503f3"
      },
      "execution_count": 4,
      "outputs": [
        {
          "output_type": "stream",
          "name": "stdout",
          "text": [
            "PRETTY_NAME=\"Ubuntu 22.04.4 LTS\"\n",
            "NAME=\"Ubuntu\"\n",
            "VERSION_ID=\"22.04\"\n",
            "VERSION=\"22.04.4 LTS (Jammy Jellyfish)\"\n",
            "VERSION_CODENAME=jammy\n",
            "ID=ubuntu\n",
            "ID_LIKE=debian\n",
            "HOME_URL=\"https://www.ubuntu.com/\"\n",
            "SUPPORT_URL=\"https://help.ubuntu.com/\"\n",
            "BUG_REPORT_URL=\"https://bugs.launchpad.net/ubuntu/\"\n",
            "PRIVACY_POLICY_URL=\"https://www.ubuntu.com/legal/terms-and-policies/privacy-policy\"\n",
            "UBUNTU_CODENAME=jammy\n"
          ]
        }
      ]
    },
    {
      "cell_type": "markdown",
      "source": [
        "### Remote disc usage:"
      ],
      "metadata": {
        "id": "-EXo9u9OHele"
      }
    },
    {
      "cell_type": "code",
      "source": [
        "!df -h"
      ],
      "metadata": {
        "colab": {
          "base_uri": "https://localhost:8080/"
        },
        "id": "krE1UYgqHgla",
        "outputId": "29cdb98e-ed87-477d-fb08-c76f61985a50"
      },
      "execution_count": 5,
      "outputs": [
        {
          "output_type": "stream",
          "name": "stdout",
          "text": [
            "Filesystem      Size  Used Avail Use% Mounted on\n",
            "overlay         108G   38G   71G  35% /\n",
            "tmpfs            64M     0   64M   0% /dev\n",
            "shm             5.8G     0  5.8G   0% /dev/shm\n",
            "/dev/root       2.0G  1.2G  775M  61% /usr/sbin/docker-init\n",
            "tmpfs           6.4G  1.3M  6.4G   1% /var/colab\n",
            "/dev/sda1        73G   39G   34G  54% /kaggle/input\n",
            "tmpfs           6.4G     0  6.4G   0% /proc/acpi\n",
            "tmpfs           6.4G     0  6.4G   0% /proc/scsi\n",
            "tmpfs           6.4G     0  6.4G   0% /sys/firmware\n",
            "drive           108G   42G   67G  39% /content/drive\n"
          ]
        }
      ]
    },
    {
      "cell_type": "markdown",
      "source": [
        "### List files:"
      ],
      "metadata": {
        "id": "hDWj_9VgHo5b"
      }
    },
    {
      "cell_type": "code",
      "source": [
        "!ls -l"
      ],
      "metadata": {
        "colab": {
          "base_uri": "https://localhost:8080/"
        },
        "id": "axks_0jMHrBu",
        "outputId": "c311c465-8154-4aab-c64f-67cc6b18707e"
      },
      "execution_count": 6,
      "outputs": [
        {
          "output_type": "stream",
          "name": "stdout",
          "text": [
            "total 8\n",
            "drwx------ 6 root root 4096 Jul  8 17:47 drive\n",
            "drwxr-xr-x 1 root root 4096 Jul  7 19:55 sample_data\n"
          ]
        }
      ]
    },
    {
      "cell_type": "markdown",
      "source": [
        "### Linux filesystem structure:"
      ],
      "metadata": {
        "id": "r1MdbKzXIt1Y"
      }
    },
    {
      "cell_type": "code",
      "source": [
        "!ls -ltr /"
      ],
      "metadata": {
        "colab": {
          "base_uri": "https://localhost:8080/"
        },
        "id": "XPpryQxiIxB1",
        "outputId": "3ae68edd-5b73-4866-fcdc-f48d9bcb17f4"
      },
      "execution_count": 7,
      "outputs": [
        {
          "output_type": "stream",
          "name": "stdout",
          "text": [
            "total 448\n",
            "-r-xr-xr-x   1 root root 346012 Jan  1  2000 python-apt.tar.xz\n",
            "drwxr-xr-x   2 root root   4096 Apr 18  2022 home\n",
            "drwxr-xr-x   2 root root   4096 Apr 18  2022 boot\n",
            "lrwxrwxrwx   1 root root      8 Jun 27  2024 sbin -> usr/sbin\n",
            "lrwxrwxrwx   1 root root     10 Jun 27  2024 libx32 -> usr/libx32\n",
            "lrwxrwxrwx   1 root root      9 Jun 27  2024 lib64 -> usr/lib64\n",
            "lrwxrwxrwx   1 root root      9 Jun 27  2024 lib32 -> usr/lib32\n",
            "lrwxrwxrwx   1 root root      7 Jun 27  2024 lib -> usr/lib\n",
            "lrwxrwxrwx   1 root root      7 Jun 27  2024 bin -> usr/bin\n",
            "drwxr-xr-x   2 root root   4096 Jun 27  2024 srv\n",
            "drwxr-xr-x   2 root root   4096 Jun 27  2024 mnt\n",
            "drwxr-xr-x   2 root root   4096 Jun 27  2024 media\n",
            "-rw-r--r--   1 root root  17294 Jul 10  2024 NGC-DL-CONTAINER-LICENSE\n",
            "-rw-r--r--   1 root root   4332 Jul 10  2024 cuda-keyring_1.1-1_all.deb\n",
            "drwxr-xr-x   1 root root   4096 Jul  7 19:33 run\n",
            "drwxrwxr-x  14 root root   4096 Jul  7 19:39 python-apt\n",
            "drwxr-xr-x   1 root root   4096 Jul  7 20:10 tools\n",
            "drwxr-xr-x   1 root root   4096 Jul  7 20:11 datalab\n",
            "drwxr-xr-x   1 root root   4096 Jul  7 20:11 var\n",
            "drwxr-xr-x   1 root root   4096 Jul  7 20:12 usr\n",
            "drwxr-xr-x   1 root root   4096 Jul  7 20:30 opt\n",
            "drwxr-xr-x   1 root root   4096 Jul  8 17:44 etc\n",
            "dr-xr-xr-x 201 root root      0 Jul  8 17:44 proc\n",
            "dr-xr-xr-x  13 root root      0 Jul  8 17:44 sys\n",
            "drwxr-xr-x   3 root root   4096 Jul  8 17:44 kaggle\n",
            "drwxr-xr-x   5 root root    360 Jul  8 17:44 dev\n",
            "drwx------   1 root root   4096 Jul  8 17:44 root\n",
            "drwxr-xr-x   1 root root   4096 Jul  8 17:47 content\n",
            "drwxrwxrwt   1 root root   4096 Jul  8 17:56 tmp\n"
          ]
        }
      ]
    },
    {
      "cell_type": "markdown",
      "metadata": {
        "id": "HR5kvTirDYct"
      },
      "source": [
        "We can check the version of python installes on the server via:"
      ]
    },
    {
      "cell_type": "code",
      "execution_count": 8,
      "metadata": {
        "colab": {
          "base_uri": "https://localhost:8080/"
        },
        "id": "x13K-7PtmUig",
        "outputId": "30731037-34e3-4fdf-93c6-3504b441034d"
      },
      "outputs": [
        {
          "output_type": "stream",
          "name": "stdout",
          "text": [
            "Python 3.11.13\n"
          ]
        }
      ],
      "source": [
        "!python --version"
      ]
    },
    {
      "cell_type": "markdown",
      "source": [
        "## Mounting your GDrive:\n",
        "\n",
        "- A separate windown opens up, where you need to accept all permissions."
      ],
      "metadata": {
        "id": "In0s4ADOH58b"
      }
    },
    {
      "cell_type": "code",
      "source": [
        "from google.colab import drive\n",
        "drive.mount('/content/drive')"
      ],
      "metadata": {
        "colab": {
          "base_uri": "https://localhost:8080/"
        },
        "id": "dMwXnSEEH_g4",
        "outputId": "ee1e4dfc-69a7-4320-ed32-e0d6279b225c"
      },
      "execution_count": 9,
      "outputs": [
        {
          "output_type": "stream",
          "name": "stdout",
          "text": [
            "Drive already mounted at /content/drive; to attempt to forcibly remount, call drive.mount(\"/content/drive\", force_remount=True).\n"
          ]
        }
      ]
    },
    {
      "cell_type": "markdown",
      "source": [
        "## Web scrapping Files with ```wget```:"
      ],
      "metadata": {
        "id": "9rUM7UyvH0zM"
      }
    },
    {
      "cell_type": "code",
      "source": [
        "# Navigate to the working directory\n",
        "# % is to have a persistent location\n",
        "%cd /content/drive/MyDrive/ISYA2025/"
      ],
      "metadata": {
        "colab": {
          "base_uri": "https://localhost:8080/"
        },
        "id": "F5Y9cPYWHsjA",
        "outputId": "162f723b-382f-47da-e90e-5f497f83d6d5"
      },
      "execution_count": 10,
      "outputs": [
        {
          "output_type": "stream",
          "name": "stdout",
          "text": [
            "/content/drive/MyDrive/ISYA2025\n"
          ]
        }
      ]
    },
    {
      "cell_type": "code",
      "source": [
        "# Create a directory\n",
        "!mkdir -p python_scripts\n",
        "\n",
        "# Change into the newly created or existing directory\n",
        "%cd python_scripts"
      ],
      "metadata": {
        "colab": {
          "base_uri": "https://localhost:8080/"
        },
        "id": "YhYH_XoxJ2RN",
        "outputId": "e4862cb2-5868-4e26-c973-6a66ffeec838"
      },
      "execution_count": 11,
      "outputs": [
        {
          "output_type": "stream",
          "name": "stdout",
          "text": [
            "/content/drive/MyDrive/ISYA2025/python_scripts\n"
          ]
        }
      ]
    },
    {
      "cell_type": "code",
      "source": [
        "# Download the script.py file using wget\n",
        "!wget https://raw.githubusercontent.com/Astronomia-Ecuador/ISYA2025/main/Python_for_Astrophysics/python_scripts/script.py"
      ],
      "metadata": {
        "colab": {
          "base_uri": "https://localhost:8080/"
        },
        "id": "WDjrX-OOJ84g",
        "outputId": "6bd157f9-60e3-4796-991f-70be34e501d6"
      },
      "execution_count": 12,
      "outputs": [
        {
          "output_type": "stream",
          "name": "stdout",
          "text": [
            "--2025-07-08 17:56:23--  https://raw.githubusercontent.com/Astronomia-Ecuador/ISYA2025/main/Python_for_Astrophysics/python_scripts/script.py\n",
            "Resolving raw.githubusercontent.com (raw.githubusercontent.com)... 185.199.110.133, 185.199.109.133, 185.199.108.133, ...\n",
            "Connecting to raw.githubusercontent.com (raw.githubusercontent.com)|185.199.110.133|:443... connected.\n",
            "HTTP request sent, awaiting response... 200 OK\n",
            "Length: 108 [text/plain]\n",
            "Saving to: ‘script.py’\n",
            "\n",
            "script.py           100%[===================>]     108  --.-KB/s    in 0s      \n",
            "\n",
            "2025-07-08 17:56:23 (2.40 MB/s) - ‘script.py’ saved [108/108]\n",
            "\n"
          ]
        }
      ]
    },
    {
      "cell_type": "code",
      "source": [
        "# Display content\n",
        "!cat script.py"
      ],
      "metadata": {
        "colab": {
          "base_uri": "https://localhost:8080/"
        },
        "id": "RIjQOZPdJK90",
        "outputId": "81c4ec86-0cf5-4783-b06f-447f87833924"
      },
      "execution_count": 13,
      "outputs": [
        {
          "output_type": "stream",
          "name": "stdout",
          "text": [
            "print(\"Hello ISYA 2025!\")\n",
            "print(\"This is our first python script.\")\n",
            "print(\"We are testing Colab and wget.\")\n"
          ]
        }
      ]
    },
    {
      "cell_type": "markdown",
      "source": [
        "## Writing text files on Linux mode:"
      ],
      "metadata": {
        "id": "NAah5r_XJOc6"
      }
    },
    {
      "cell_type": "code",
      "source": [
        "# Create a file with content\n",
        "!echo \"Hello, greetings from Urcuqui!\" > file.txt\n",
        "!echo \"This is a Linux on Colab tutorial.\" >> file.txt # Append content"
      ],
      "metadata": {
        "id": "LrAN7oJOIW-M"
      },
      "execution_count": 14,
      "outputs": []
    },
    {
      "cell_type": "markdown",
      "source": [
        "### Looking into files:"
      ],
      "metadata": {
        "id": "D5bLkfVTLB7V"
      }
    },
    {
      "cell_type": "code",
      "source": [
        "# Display content\n",
        "!cat file.txt"
      ],
      "metadata": {
        "colab": {
          "base_uri": "https://localhost:8080/"
        },
        "id": "KP1cQ7e0JAQI",
        "outputId": "bf71e747-c1d1-4451-c709-15d282662f6f"
      },
      "execution_count": 15,
      "outputs": [
        {
          "output_type": "stream",
          "name": "stdout",
          "text": [
            "Hello, greetings from Urcuqui!\n",
            "This is a Linux on Colab tutorial.\n"
          ]
        }
      ]
    },
    {
      "cell_type": "code",
      "source": [
        "!head -n 1 file.txt\n",
        "!tail -n 1 file.txt"
      ],
      "metadata": {
        "colab": {
          "base_uri": "https://localhost:8080/"
        },
        "id": "VYsHmGqDLF8y",
        "outputId": "d98dade8-9e6b-4e79-ceaf-a4f2fddd6504"
      },
      "execution_count": 16,
      "outputs": [
        {
          "output_type": "stream",
          "name": "stdout",
          "text": [
            "Hello, greetings from Urcuqui!\n",
            "This is a Linux on Colab tutorial.\n"
          ]
        }
      ]
    },
    {
      "cell_type": "markdown",
      "source": [
        "## Creating directories and navigating:"
      ],
      "metadata": {
        "id": "OngqylscJpoo"
      }
    },
    {
      "cell_type": "code",
      "source": [
        "# Create an images directory\n",
        "!mkdir images\n",
        "\n",
        "# Change into it using a magic command (persists)\n",
        "%cd images\n",
        "!pwd"
      ],
      "metadata": {
        "colab": {
          "base_uri": "https://localhost:8080/"
        },
        "id": "ZsEi4n67JJXH",
        "outputId": "91746cf1-5dd9-4bb9-e105-e061fa560c84"
      },
      "execution_count": 17,
      "outputs": [
        {
          "output_type": "stream",
          "name": "stdout",
          "text": [
            "/content/drive/MyDrive/ISYA2025/python_scripts/images\n",
            "/content/drive/MyDrive/ISYA2025/python_scripts/images\n"
          ]
        }
      ]
    },
    {
      "cell_type": "code",
      "source": [
        "# Go back up one level\n",
        "%cd ..\n",
        "!pwd"
      ],
      "metadata": {
        "colab": {
          "base_uri": "https://localhost:8080/"
        },
        "id": "iEgUovN1K703",
        "outputId": "c67292d1-2d44-4023-e325-728ccea4ba14"
      },
      "execution_count": 18,
      "outputs": [
        {
          "output_type": "stream",
          "name": "stdout",
          "text": [
            "/content/drive/MyDrive/ISYA2025/python_scripts\n",
            "/content/drive/MyDrive/ISYA2025/python_scripts\n"
          ]
        }
      ]
    },
    {
      "cell_type": "markdown",
      "source": [
        "### Nested directories"
      ],
      "metadata": {
        "id": "c3Ovqh8pK_AL"
      }
    },
    {
      "cell_type": "code",
      "source": [
        "!mkdir images/tmpdir"
      ],
      "metadata": {
        "id": "fj8LMPzIJvk5"
      },
      "execution_count": 19,
      "outputs": []
    },
    {
      "cell_type": "code",
      "source": [
        "!ls images/."
      ],
      "metadata": {
        "colab": {
          "base_uri": "https://localhost:8080/"
        },
        "id": "qiJf5lB6LL_l",
        "outputId": "6375bb57-93b9-4b63-d5d1-9bb54f0dbca8"
      },
      "execution_count": 20,
      "outputs": [
        {
          "output_type": "stream",
          "name": "stdout",
          "text": [
            "tmpdir\n"
          ]
        }
      ]
    },
    {
      "cell_type": "markdown",
      "source": [
        "### Copying files:"
      ],
      "metadata": {
        "id": "GjHq6h4oKUrM"
      }
    },
    {
      "cell_type": "code",
      "source": [
        "!cp file.txt copy_of_my_file.txt\n",
        "\n",
        "!ls"
      ],
      "metadata": {
        "colab": {
          "base_uri": "https://localhost:8080/"
        },
        "id": "PkCUsCh4J7fs",
        "outputId": "dfa8acc8-e1f1-41a8-ee7e-6baab9cd33b5"
      },
      "execution_count": 21,
      "outputs": [
        {
          "output_type": "stream",
          "name": "stdout",
          "text": [
            "copy_of_my_file.txt  file.txt  images  script.py\n"
          ]
        }
      ]
    },
    {
      "cell_type": "markdown",
      "source": [
        "### Removing directories/files wirh ```rm```:"
      ],
      "metadata": {
        "id": "xVrTSPgzKd0A"
      }
    },
    {
      "cell_type": "code",
      "source": [
        "!rm -rf images/tmpdir\n",
        "!ls"
      ],
      "metadata": {
        "colab": {
          "base_uri": "https://localhost:8080/"
        },
        "id": "zEw109mgKaeP",
        "outputId": "444890fc-d89c-4bd7-9fad-b7206f519544"
      },
      "execution_count": 22,
      "outputs": [
        {
          "output_type": "stream",
          "name": "stdout",
          "text": [
            "copy_of_my_file.txt  file.txt  images  script.py\n"
          ]
        }
      ]
    },
    {
      "cell_type": "markdown",
      "source": [
        "### Moving directories with ```mv```:"
      ],
      "metadata": {
        "id": "KxNLGQFvK2KZ"
      }
    },
    {
      "cell_type": "code",
      "source": [
        "!mv copy_of_my_file.txt copy_of_my_file2.txt\n",
        "!ls"
      ],
      "metadata": {
        "colab": {
          "base_uri": "https://localhost:8080/"
        },
        "id": "scPTVa2fKnc5",
        "outputId": "32f430a6-d9ed-44aa-f126-a264ae86255e"
      },
      "execution_count": 23,
      "outputs": [
        {
          "output_type": "stream",
          "name": "stdout",
          "text": [
            "copy_of_my_file2.txt  file.txt\timages\tscript.py\n"
          ]
        }
      ]
    },
    {
      "cell_type": "markdown",
      "source": [
        "## The top command\n",
        "\n",
        "This allows us to see who is running scripts/ jobs in the system and what kind of processes they are."
      ],
      "metadata": {
        "id": "mUpFsaYSLU7b"
      }
    },
    {
      "cell_type": "code",
      "source": [
        "!top -n 1 -b"
      ],
      "metadata": {
        "colab": {
          "base_uri": "https://localhost:8080/"
        },
        "id": "jhr6VCCdK8k5",
        "outputId": "4c520882-ab73-4a27-dcba-1834af13394e"
      },
      "execution_count": 24,
      "outputs": [
        {
          "output_type": "stream",
          "name": "stdout",
          "text": [
            "top - 17:56:25 up 12 min,  0 users,  load average: 0.60, 0.49, 0.29\n",
            "Tasks:  25 total,   1 running,  23 sleeping,   0 stopped,   1 zombie\n",
            "%Cpu(s):  3.3 us,  3.3 sy,  0.0 ni, 93.3 id,  0.0 wa,  0.0 hi,  0.0 si,  0.0 st\n",
            "MiB Mem :  12977.9 total,   9186.4 free,    704.6 used,   3087.0 buff/cache\n",
            "MiB Swap:      0.0 total,      0.0 free,      0.0 used.  11987.7 avail Mem \n",
            "\n",
            "    PID USER      PR  NI    VIRT    RES    SHR S  %CPU  %MEM     TIME+ COMMAND\n",
            "      1 root      20   0    1076      8      0 S   0.0   0.0   0:00.04 docker-+\n",
            "      7 root      20   0 1294420  65108  41588 S   0.0   0.5   0:03.26 node\n",
            "     15 root      20   0    7376   3540   3236 S   0.0   0.0   0:00.43 oom_mon+\n",
            "     17 root      20   0    7376   1864   1576 S   0.0   0.0   0:00.00 run.sh\n",
            "     18 root      20   0 1238028  16872   9600 S   0.0   0.1   0:00.60 kernel_+\n",
            "     27 root      20   0    5808   1012    920 S   0.0   0.0   0:00.04 tail\n",
            "     37 root      20   0    5808   1072    980 S   0.0   0.0   0:00.05 tail\n",
            "     70 root      20   0       0      0      0 Z   0.0   0.0   0:16.21 python3\n",
            "     71 root      20   0   77376  57672  19560 S   0.0   0.4   0:00.72 colab-f+\n",
            "     92 root      20   0  389044 135468  26740 S   0.0   1.0   0:06.16 jupyter+\n",
            "     93 root      20   0 1230488   9792   3708 S   0.0   0.1   0:00.70 dap_mul+\n",
            "    495 root      20   0  544980  20908   5916 S   0.0   0.2   0:01.90 python3\n",
            "    915 root      20   0    4500    280      0 S   0.0   0.0   0:00.00 bash\n",
            "    916 root      20   0 3257456  38204  26492 S   0.0   0.3   0:00.16 drive\n",
            "    917 root      20   0    3632   1664   1556 S   0.0   0.0   0:00.00 grep\n",
            "   1049 root      20   0 3714848  82652  48288 S   0.0   0.6   0:01.33 drive\n",
            "   1137 root      20   0    4364   3264   3020 S   0.0   0.0   0:00.00 bash\n",
            "   1138 root      20   0 1228576   4436   2836 S   0.0   0.0   0:00.03 directo+\n",
            "   1139 root      20   0    2824   1000    912 S   0.0   0.0   0:00.03 tail\n",
            "   1140 root      20   0   20888  13028   6132 S   0.0   0.1   0:00.07 python3\n",
            "   3212 root      20   0 1241352  17960  10628 S   0.0   0.1   0:00.03 languag+\n",
            "   3219 root      20   0 1005272  58908  36272 S   0.0   0.4   0:00.27 node\n",
            "   3226 root      20   0  662344 101044  25416 S   0.0   0.8   0:01.80 python3\n",
            "   3290 root      20   0   10356   3600   3244 R   0.0   0.0   0:00.00 top\n",
            "   3294 root      20   0    5776   1004    912 S   0.0   0.0   0:00.00 sleep\n"
          ]
        }
      ]
    }
  ],
  "metadata": {
    "colab": {
      "provenance": [],
      "include_colab_link": true
    },
    "kernelspec": {
      "display_name": "Python 3",
      "name": "python3"
    },
    "language_info": {
      "name": "python"
    }
  },
  "nbformat": 4,
  "nbformat_minor": 0
}